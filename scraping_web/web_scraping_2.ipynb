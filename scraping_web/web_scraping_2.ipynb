{
 "cells": [
  {
   "cell_type": "code",
   "execution_count": 14,
   "metadata": {},
   "outputs": [],
   "source": [
    "from selenium import webdriver\n",
    "from webdriver_manager.chrome import ChromeDriverManager"
   ]
  },
  {
   "cell_type": "code",
   "execution_count": 15,
   "metadata": {},
   "outputs": [
    {
     "name": "stderr",
     "output_type": "stream",
     "text": [
      "\n",
      "\n",
      "====== WebDriver manager ======\n",
      "Current google-chrome version is 95.0.4638\n",
      "Get LATEST chromedriver version for 95.0.4638 google-chrome\n",
      "Driver [C:\\Users\\varun\\.wdm\\drivers\\chromedriver\\win32\\95.0.4638.69\\chromedriver.exe] found in cache\n",
      "C:\\Users\\varun\\AppData\\Local\\Temp/ipykernel_11740/2395424101.py:1: DeprecationWarning: executable_path has been deprecated, please pass in a Service object\n",
      "  driver =  webdriver.Chrome(ChromeDriverManager().install())\n"
     ]
    }
   ],
   "source": [
    "driver =  webdriver.Chrome(ChromeDriverManager().install())"
   ]
  },
  {
   "cell_type": "markdown",
   "metadata": {},
   "source": [
    "# flipkart scraper"
   ]
  },
  {
   "cell_type": "code",
   "execution_count": 16,
   "metadata": {},
   "outputs": [],
   "source": [
    "def get_fkrt_addr(query= 'bags',start_pos=1):\n",
    "    url = 'https://www.flipkart.com/search'\n",
    "    param1 = f'q={query}'           # item to be search\n",
    "    param2 = f'page={start_pos}'    # starting page\n",
    "    return f'{url}?{param1}&{param2}'"
   ]
  },
  {
   "cell_type": "code",
   "execution_count": 17,
   "metadata": {},
   "outputs": [],
   "source": [
    "driver.get(get_fkrt_addr('watches'))"
   ]
  },
  {
   "cell_type": "code",
   "execution_count": null,
   "metadata": {},
   "outputs": [],
   "source": [
    "headings = driver.find_elements_by_css_selector('div._2WkVRV')\n",
    "for h in headings:print(h.text)"
   ]
  },
  {
   "cell_type": "code",
   "execution_count": null,
   "metadata": {},
   "outputs": [],
   "source": [
    "# actual code\n",
    "def extract_page_data(driver):\n",
    "    data = []\n",
    "\n",
    "    cards = driver.find_elements_by_css_selector('div._1xHGtK._373qXS')\n",
    "    if len(cards)>0:\n",
    "        for item in cards:\n",
    "            data.append(dict(\n",
    "                brand = item.find_element_by_css_selector('div._2WkVRV').text,\n",
    "                title = item.find_element_by_css_selector('a.IRpwTa').get_attribute('title'),\n",
    "                price = item.find_element_by_css_selector('div._30jeq3').text\n",
    "            ))\n",
    "    return data"
   ]
  },
  {
   "cell_type": "code",
   "execution_count": null,
   "metadata": {},
   "outputs": [],
   "source": [
    "def get_flipkart_data(search = 'bags', pos = 1, limit=None):\n",
    "    all_data= [] \n",
    "    while True:\n",
    "        addr = get_fkrt_addr(search, pos)\n",
    "        driver.get(addr)\n",
    "        data = extract_page_data(driver)\n",
    "        if len(data):\n",
    "            all_data.extend(data)\n",
    "            pos += 1\n",
    "        else:\n",
    "            break\n",
    "    return all_data"
   ]
  },
  {
   "cell_type": "code",
   "execution_count": null,
   "metadata": {},
   "outputs": [],
   "source": []
  }
 ],
 "metadata": {
  "interpreter": {
   "hash": "d6fae5423283988a1f203f784ae9cfad4c34cb6feea49a0d1f54c80e10af6504"
  },
  "kernelspec": {
   "display_name": "Python 3.9.7 64-bit",
   "language": "python",
   "name": "python3"
  },
  "language_info": {
   "codemirror_mode": {
    "name": "ipython",
    "version": 3
   },
   "file_extension": ".py",
   "mimetype": "text/x-python",
   "name": "python",
   "nbconvert_exporter": "python",
   "pygments_lexer": "ipython3",
   "version": "3.9.7"
  },
  "orig_nbformat": 4
 },
 "nbformat": 4,
 "nbformat_minor": 2
}
